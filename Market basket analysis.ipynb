{
 "cells": [
  {
   "cell_type": "code",
   "execution_count": 33,
   "metadata": {},
   "outputs": [
    {
     "name": "stdout",
     "output_type": "stream",
     "text": [
      "Market basket analysis\n"
     ]
    }
   ],
   "source": [
    "print (\"Market basket analysis\")"
   ]
  },
  {
   "cell_type": "code",
   "execution_count": 34,
   "metadata": {},
   "outputs": [],
   "source": [
    "import numpy as np\n",
    "import scipy as sc\n",
    "from pandas import Series,DataFrame\n",
    "import pandas as pd\n",
    "\n",
    "import matplotlib.pyplot as plt\n",
    "import matplotlib as mpl\n",
    "import seaborn as sns\n",
    "\n",
    "from collections import OrderedDict\n",
    "from fractions import Fraction\n",
    "\n",
    "get_ipython().magic(u'matplotlib inline')\n",
    "mpl.rcParams['figure.figsize'] = (10.0, 5)\n",
    "\n",
    "\n",
    "# In[42]:\n",
    "\n",
    "# nice to have\n",
    "def plot_matrix(matrix):\n",
    "    fig = plt.figure()\n",
    "    ax = fig.add_subplot(111)\n",
    "    cax = ax.matshow(matrix, interpolation='nearest')\n",
    "    fig.colorbar(cax)\n"
   ]
  },
  {
   "cell_type": "code",
   "execution_count": 35,
   "metadata": {},
   "outputs": [
    {
     "data": {
      "text/html": [
       "<div>\n",
       "<style>\n",
       "    .dataframe thead tr:only-child th {\n",
       "        text-align: right;\n",
       "    }\n",
       "\n",
       "    .dataframe thead th {\n",
       "        text-align: left;\n",
       "    }\n",
       "\n",
       "    .dataframe tbody tr th {\n",
       "        vertical-align: top;\n",
       "    }\n",
       "</style>\n",
       "<table border=\"1\" class=\"dataframe\">\n",
       "  <thead>\n",
       "    <tr style=\"text-align: right;\">\n",
       "      <th></th>\n",
       "      <th>Balsamico</th>\n",
       "      <th>Mozzarella</th>\n",
       "      <th>Pasta</th>\n",
       "      <th>Pepsi</th>\n",
       "      <th>Wine</th>\n",
       "    </tr>\n",
       "  </thead>\n",
       "  <tbody>\n",
       "    <tr>\n",
       "      <th>0</th>\n",
       "      <td>0</td>\n",
       "      <td>1</td>\n",
       "      <td>0</td>\n",
       "      <td>1</td>\n",
       "      <td>0</td>\n",
       "    </tr>\n",
       "    <tr>\n",
       "      <th>1</th>\n",
       "      <td>1</td>\n",
       "      <td>0</td>\n",
       "      <td>1</td>\n",
       "      <td>0</td>\n",
       "      <td>0</td>\n",
       "    </tr>\n",
       "    <tr>\n",
       "      <th>2</th>\n",
       "      <td>1</td>\n",
       "      <td>1</td>\n",
       "      <td>0</td>\n",
       "      <td>0</td>\n",
       "      <td>1</td>\n",
       "    </tr>\n",
       "    <tr>\n",
       "      <th>3</th>\n",
       "      <td>0</td>\n",
       "      <td>0</td>\n",
       "      <td>1</td>\n",
       "      <td>1</td>\n",
       "      <td>0</td>\n",
       "    </tr>\n",
       "    <tr>\n",
       "      <th>4</th>\n",
       "      <td>1</td>\n",
       "      <td>1</td>\n",
       "      <td>1</td>\n",
       "      <td>0</td>\n",
       "      <td>0</td>\n",
       "    </tr>\n",
       "    <tr>\n",
       "      <th>5</th>\n",
       "      <td>0</td>\n",
       "      <td>0</td>\n",
       "      <td>1</td>\n",
       "      <td>0</td>\n",
       "      <td>1</td>\n",
       "    </tr>\n",
       "    <tr>\n",
       "      <th>6</th>\n",
       "      <td>0</td>\n",
       "      <td>0</td>\n",
       "      <td>0</td>\n",
       "      <td>1</td>\n",
       "      <td>1</td>\n",
       "    </tr>\n",
       "    <tr>\n",
       "      <th>7</th>\n",
       "      <td>1</td>\n",
       "      <td>1</td>\n",
       "      <td>1</td>\n",
       "      <td>0</td>\n",
       "      <td>1</td>\n",
       "    </tr>\n",
       "  </tbody>\n",
       "</table>\n",
       "</div>"
      ],
      "text/plain": [
       "   Balsamico  Mozzarella  Pasta  Pepsi  Wine\n",
       "0          0           1      0      1     0\n",
       "1          1           0      1      0     0\n",
       "2          1           1      0      0     1\n",
       "3          0           0      1      1     0\n",
       "4          1           1      1      0     0\n",
       "5          0           0      1      0     1\n",
       "6          0           0      0      1     1\n",
       "7          1           1      1      0     1"
      ]
     },
     "execution_count": 35,
     "metadata": {},
     "output_type": "execute_result"
    }
   ],
   "source": [
    "\n",
    "# In[106]:\n",
    "\n",
    "transaction_df = pd.DataFrame({'Mozzarella' : [1,0,1,0,1,0,0,1],\n",
    "                               'Balsamico' : [0,1,1,0,1,0,0,1],\n",
    "                               'Pepsi' : [1,0,0,1,0,0,1,0],\n",
    "                               'Pasta' : [0,1,0,1,1,1,0,1],\n",
    "                               'Wine' : [0,0,1,0,0,1,1,1]})\n",
    "transaction_df"
   ]
  },
  {
   "cell_type": "code",
   "execution_count": 36,
   "metadata": {},
   "outputs": [
    {
     "data": {
      "text/plain": [
       "<matplotlib.axes._subplots.AxesSubplot at 0xc56a358>"
      ]
     },
     "execution_count": 36,
     "metadata": {},
     "output_type": "execute_result"
    },
    {
     "data": {
      "image/png": "[encoded data removed]",
      "text/plain": [
       "<matplotlib.figure.Figure at 0xc51e4a8>"
      ]
     },
     "metadata": {},
     "output_type": "display_data"
    }
   ],
   "source": [
    "\n",
    "# In[107]:\n",
    "\n",
    "# calculate support for every product in all transactions\n",
    "product_support_dict = {}\n",
    "for column in transaction_df.columns:\n",
    "    product_support_dict[column] = sum(transaction_df[column]>0)\n",
    "    \n",
    "    \n",
    "# visualise support\n",
    "pd.Series(product_support_dict).plot(kind=\"bar\")"
   ]
  },
  {
   "cell_type": "code",
   "execution_count": 37,
   "metadata": {},
   "outputs": [
    {
     "data": {
      "text/plain": [
       "array([[0, 1, 0, 1, 0],\n",
       "       [1, 0, 1, 0, 0],\n",
       "       [1, 1, 0, 0, 1],\n",
       "       [0, 0, 1, 1, 0],\n",
       "       [1, 1, 1, 0, 0],\n",
       "       [0, 0, 1, 0, 1],\n",
       "       [0, 0, 0, 1, 1],\n",
       "       [1, 1, 1, 0, 1]], dtype=int64)"
      ]
     },
     "execution_count": 37,
     "metadata": {},
     "output_type": "execute_result"
    }
   ],
   "source": [
    "\n",
    "\n",
    "# In[108]:\n",
    "\n",
    "transaction_matrix = transaction_df.as_matrix()\n",
    "transaction_matrix"
   ]
  },
  {
   "cell_type": "code",
   "execution_count": 38,
   "metadata": {},
   "outputs": [
    {
     "data": {
      "text/plain": [
       "array([[False,  True, False,  True, False],\n",
       "       [ True, False,  True, False, False],\n",
       "       [ True,  True, False, False,  True],\n",
       "       [False, False,  True,  True, False],\n",
       "       [ True,  True,  True, False, False],\n",
       "       [False, False,  True, False,  True],\n",
       "       [False, False, False,  True,  True],\n",
       "       [ True,  True,  True, False,  True]], dtype=bool)"
      ]
     },
     "execution_count": 38,
     "metadata": {},
     "output_type": "execute_result"
    }
   ],
   "source": [
    "\n",
    "# In[109]:\n",
    "\n",
    "bool_index = (transaction_matrix>0)\n",
    "bool_index"
   ]
  },
  {
   "cell_type": "code",
   "execution_count": 39,
   "metadata": {},
   "outputs": [
    {
     "data": {
      "image/png": "[encoded data removed]",
      "text/plain": [
       "<matplotlib.figure.Figure at 0xc4a9160>"
      ]
     },
     "metadata": {},
     "output_type": "display_data"
    }
   ],
   "source": [
    "\n",
    "# In[110]:\n",
    "\n",
    "plot_matrix(transaction_matrix)"
   ]
  },
  {
   "cell_type": "code",
   "execution_count": 40,
   "metadata": {},
   "outputs": [
    {
     "name": "stdout",
     "output_type": "stream",
     "text": [
      "this: 0 : Balsamico\n",
      "\tnext: 1 : Mozzarella\n",
      "\t 3\n",
      "\tnext: 2 : Pasta\n",
      "\t 3\n",
      "\tnext: 3 : Pepsi\n",
      "\t 0\n",
      "\tnext: 4 : Wine\n",
      "\t 2\n",
      "this: 1 : Mozzarella\n",
      "\tnext: 2 : Pasta\n",
      "\t 2\n",
      "\tnext: 3 : Pepsi\n",
      "\t 1\n",
      "\tnext: 4 : Wine\n",
      "\t 2\n",
      "this: 2 : Pasta\n",
      "\tnext: 3 : Pepsi\n",
      "\t 1\n",
      "\tnext: 4 : Wine\n",
      "\t 2\n",
      "this: 3 : Pepsi\n",
      "\tnext: 4 : Wine\n",
      "\t 1\n"
     ]
    }
   ],
   "source": [
    "\n",
    "\n",
    "# In[111]:\n",
    "\n",
    "# get number of rows and columns\n",
    "rows, columns = transaction_matrix.shape\n",
    "# init new matrix\n",
    "frequent_items_matrix = np.zeros((5,5))\n",
    "# compare every product with every other\n",
    "for this_column in range(0, columns-1):\n",
    "    print (\"this:\", this_column,\":\",transaction_df.columns[this_column])\n",
    "    for next_column in range(this_column + 1, columns):\n",
    "        print (\"\\tnext:\", next_column,\":\",transaction_df.columns[next_column])\n",
    "        # multiply product pair vectors\n",
    "        product_vector = transaction_matrix[:,this_column] * transaction_matrix[:,next_column]\n",
    "        # check the number of pair occurrences in baskets\n",
    "        count_matches = sum((product_vector)>0)\n",
    "        print (\"\\t\", count_matches)\n",
    "        # save values to new matrix\n",
    "        frequent_items_matrix[this_column,next_column] = count_matches\n",
    "\n"
   ]
  },
  {
   "cell_type": "code",
   "execution_count": 41,
   "metadata": {},
   "outputs": [
    {
     "name": "stdout",
     "output_type": "stream",
     "text": [
      "[[ 0.  3.  3.  0.  2.]\n",
      " [ 0.  0.  2.  1.  2.]\n",
      " [ 0.  0.  0.  1.  2.]\n",
      " [ 0.  0.  0.  0.  1.]\n",
      " [ 0.  0.  0.  0.  0.]]\n"
     ]
    }
   ],
   "source": [
    "\n",
    "\n",
    "# In[112]:\n",
    "\n",
    "print (frequent_items_matrix) "
   ]
  },
  {
   "cell_type": "code",
   "execution_count": 42,
   "metadata": {},
   "outputs": [
    {
     "data": {
      "image/png": "[encoded data removed]",
      "text/plain": [
       "<matplotlib.figure.Figure at 0xc67eef0>"
      ]
     },
     "metadata": {},
     "output_type": "display_data"
    }
   ],
   "source": [
    "\n",
    "\n",
    "# In[113]:\n",
    "\n",
    "plot_matrix(frequent_items_matrix)"
   ]
  },
  {
   "cell_type": "code",
   "execution_count": 43,
   "metadata": {},
   "outputs": [
    {
     "data": {
      "text/plain": [
       "<matplotlib.axes._subplots.AxesSubplot at 0xc5ec940>"
      ]
     },
     "execution_count": 43,
     "metadata": {},
     "output_type": "execute_result"
    },
    {
     "data": {
      "image/png": "[encoded data removed]",
      "text/plain": [
       "<matplotlib.figure.Figure at 0xc6c9da0>"
      ]
     },
     "metadata": {},
     "output_type": "display_data"
    }
   ],
   "source": [
    "\n",
    "\n",
    "\n",
    "\n",
    "# In[114]:\n",
    "\n",
    "# combine matrix with names\n",
    "frequent_items_df = pd.DataFrame(frequent_items_matrix, columns = transaction_df.columns.values, index = transaction_df.columns.values)\n",
    "sns.heatmap(frequent_items_df)\n",
    "\n",
    "\n"
   ]
  },
  {
   "cell_type": "code",
   "execution_count": 44,
   "metadata": {},
   "outputs": [
    {
     "data": {
      "image/png": "[encoded data removed]",
      "text/plain": [
       "<matplotlib.figure.Figure at 0xc6779e8>"
      ]
     },
     "metadata": {},
     "output_type": "display_data"
    }
   ],
   "source": [
    "# In[115]:\n",
    "\n",
    "product_names = transaction_df.columns.values\n",
    "\n",
    "# extract product pairs with minimum frequency(treshold) basket occurrences\n",
    "def extract_pairs(treshold):\n",
    "    output = {}\n",
    "    # select indexes with larger or equal n\n",
    "    matrix_coord_list = np.where(frequent_items_matrix >= treshold)\n",
    "    # take values\n",
    "    row_coords = matrix_coord_list[0]\n",
    "    column_coords = matrix_coord_list[1]\n",
    "    # generate pairs\n",
    "    for index, value in enumerate(row_coords):\n",
    "        #print index\n",
    "        row = row_coords[index]\n",
    "        column = column_coords[index]\n",
    "        # get product names\n",
    "        first_product = product_names[row]\n",
    "        second_product = product_names[column]\n",
    "        # number of basket matches\n",
    "        matches = frequent_items_matrix[row,column]\n",
    "        # put key values into dict\n",
    "        output[first_product+\"-\"+second_product] = matches\n",
    "    \n",
    "    # return sorted dict\n",
    "    sorted_output = OrderedDict(sorted(output.items(), key=lambda x: x[1]))\n",
    "    return sorted_output\n",
    "    \n",
    "# plot pairs with minimum frequency of 2 basket matches\n",
    "min_frequency = 1\n",
    "ax = pd.Series(extract_pairs(min_frequency)).plot(kind=\"barh\", title=\"Frequent Pairs with Frequency >= \" + str(min_frequency))"
   ]
  },
  {
   "cell_type": "code",
   "execution_count": null,
   "metadata": {
    "collapsed": true
   },
   "outputs": [],
   "source": []
  }
 ],
 "metadata": {
  "kernelspec": {
   "display_name": "Python 3",
   "language": "python",
   "name": "python3"
  },
  "language_info": {
   "codemirror_mode": {
    "name": "ipython",
    "version": 3
   },
   "file_extension": ".py",
   "mimetype": "text/x-python",
   "name": "python",
   "nbconvert_exporter": "python",
   "pygments_lexer": "ipython3",
   "version": "3.6.3"
  }
 },
 "nbformat": 4,
 "nbformat_minor": 2
}
